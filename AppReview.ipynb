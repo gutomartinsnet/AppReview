import pandas as pd #install pandas
import numpy as np #install numpy
import json #install json

from app_store_scraper import AppStore
appreviews = AppStore(country='br', app_name='name-app', app_id = 'id-app')

appreviews.review(how_many=2000)
appreviews.reviews


appreviewsdf = pd.DataFrame(np.array(appreviews.reviews),columns=['review'])
appreviewsdf2 = appreviewsdf.join(pd.DataFrame(appreviewsdf.pop('review').tolist()))
appreviewsdf2.head()

appreviewsdf2.to_csv('appreviews-from-appelstore.csv',encoding='utf-8-sig')
